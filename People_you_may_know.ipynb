{
 "cells": [
  {
   "cell_type": "code",
   "execution_count": 2,
   "id": "beecfa3c-be92-4158-9195-77ed65d6069b",
   "metadata": {},
   "outputs": [
    {
     "name": "stdout",
     "output_type": "stream",
     "text": [
      "<class 'list'>\n",
      "[(7, 2), (3, 1)]\n"
     ]
    }
   ],
   "source": [
    "import json\n",
    "\n",
    "def people_you_may_know(user_id,data):\n",
    "    user_friends={}\n",
    "    for user in data['users']:\n",
    "        user_friends[user['id']]=set(user['friends'])\n",
    "    if user_id not in user_friends:\n",
    "        return []\n",
    "\n",
    "\n",
    "    suggested_friends={}\n",
    "     \n",
    "    for friend in user_friends[user_id]:\n",
    "        for mutual in user_friends[friend]:\n",
    "            if mutual!=user_id and mutual not in user_friends[user_id]:\n",
    "                suggested_friends[mutual]=suggested_friends.get(mutual,0)+1\n",
    "     \n",
    "    sorted_suggestions=sorted(suggested_friends.items(),key=lambda x:x[1],reverse=True)\n",
    "    print(type(sorted_suggestions))\n",
    "    return [(mutual_friend,score) for mutual_friend,score in sorted_suggestions]\n",
    "\n",
    "file=open('data.json','r')\n",
    "data=json.load(file)\n",
    "user_id=2\n",
    "recc=people_you_may_know(user_id,data)\n",
    "print(recc)"
   ]
  },
  {
   "cell_type": "code",
   "execution_count": null,
   "id": "64780392-76bd-4ca3-a090-829702c71c79",
   "metadata": {},
   "outputs": [],
   "source": []
  }
 ],
 "metadata": {
  "kernelspec": {
   "display_name": "Python 3 (ipykernel)",
   "language": "python",
   "name": "python3"
  },
  "language_info": {
   "codemirror_mode": {
    "name": "ipython",
    "version": 3
   },
   "file_extension": ".py",
   "mimetype": "text/x-python",
   "name": "python",
   "nbconvert_exporter": "python",
   "pygments_lexer": "ipython3",
   "version": "3.12.8"
  }
 },
 "nbformat": 4,
 "nbformat_minor": 5
}
