{
 "cells": [
  {
   "cell_type": "code",
   "execution_count": 13,
   "id": "3c9dfdec-d336-4a9b-9faf-43b0f9598c87",
   "metadata": {},
   "outputs": [
    {
     "name": "stdout",
     "output_type": "stream",
     "text": [
      "[110, 104, 103, 109, 107, 108]\n"
     ]
    }
   ],
   "source": [
    "import json\n",
    "\n",
    "def pages_you_might_like(user_id,data):\n",
    "    user_liked_pages={}\n",
    "    for user in data['users']:\n",
    "        user_liked_pages[user['id']]=set(user['liked_pages'])\n",
    "    current_user=user_liked_pages[user_id]\n",
    "    pages_suggestions={}\n",
    "     \n",
    "    for other_id,page_liked in user_liked_pages.items():\n",
    "            if other_id!=user_id:\n",
    "                other_liked_user_pages=user_liked_pages[other_id]\n",
    "                score=current_user.intersection(other_liked_user_pages)\n",
    "                for suggested_page in other_liked_user_pages:\n",
    "                    if suggested_page not in current_user:\n",
    "                        pages_suggestions[suggested_page]=pages_suggestions.get(suggested_page,0)+len(score)\n",
    "                        \n",
    "    sorted_suggestions=sorted(pages_suggestions.items(),key=lambda x:x[1],reverse=True)\n",
    "    return [page for page,_ in sorted_suggestions]\n",
    "            \n",
    "            \n",
    "def load_from_file(filename):\n",
    "    with open(filename,'r') as f:\n",
    "        data=json.load(f)\n",
    "    return data\n",
    "user_id=1\n",
    "data=load_from_file(\"data.json\")\n",
    "print(pages_you_might_like(user_id,data))"
   ]
  },
  {
   "cell_type": "code",
   "execution_count": null,
   "id": "2c927e41-8fed-4360-9765-12a2cba7b149",
   "metadata": {},
   "outputs": [],
   "source": []
  }
 ],
 "metadata": {
  "kernelspec": {
   "display_name": "Python 3 (ipykernel)",
   "language": "python",
   "name": "python3"
  },
  "language_info": {
   "codemirror_mode": {
    "name": "ipython",
    "version": 3
   },
   "file_extension": ".py",
   "mimetype": "text/x-python",
   "name": "python",
   "nbconvert_exporter": "python",
   "pygments_lexer": "ipython3",
   "version": "3.12.8"
  }
 },
 "nbformat": 4,
 "nbformat_minor": 5
}
