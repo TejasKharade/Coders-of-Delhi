{
 "cells": [
  {
   "cell_type": "code",
   "execution_count": 8,
   "id": "12c8a1cd-44a0-48c0-90a5-1393dc65c1b0",
   "metadata": {},
   "outputs": [
    {
     "name": "stdout",
     "output_type": "stream",
     "text": [
      "Data has been cleaned successfully\n"
     ]
    }
   ],
   "source": [
    "import json\n",
    "def clean_data(data):\n",
    "    #Removes data point for empty username\n",
    "    data['users']=[user for user in data['users'] if user['name'].strip()]\n",
    "    cleaned_user=[]\n",
    "    # for user in data['users']:\n",
    "    #     if(user['name'].strip()):\n",
    "    #         cleaned_user.append(user)\n",
    "    # data['users']=cleaned_user\n",
    "    \n",
    "    # If friends are repeated it corrects the data\n",
    "    for user in data['users']:\n",
    "        user['friends'] = list(set(user['friends']))\n",
    "    # for user in data['users']:\n",
    "    #     if(user['friends'] or user['liked_pages']):\n",
    "    #         cleaned_user.append(user)\n",
    "    # data['users']=cleaned_user\n",
    "\n",
    "    #\n",
    "    data['users']=[user for user in data['users'] if user['friends'] or user['liked_pages']]\n",
    "    cleaned_data={}\n",
    "    for page in data['pages']:\n",
    "        cleaned_data[page['id']]=page\n",
    "    data['pages']=list(cleaned_data.values())\n",
    "    return data\n",
    "data=json.load(open(\"data2.json\"))\n",
    "data=clean_data(data)\n",
    "json.dump(data,open(\"Cleaned_data.json\",'w'),indent=4)\n",
    "print(\"Data has been cleaned successfully\")"
   ]
  },
  {
   "cell_type": "code",
   "execution_count": null,
   "id": "ba8b4fcc-7ace-4e55-ac5b-55ce3252735c",
   "metadata": {},
   "outputs": [],
   "source": []
  }
 ],
 "metadata": {
  "kernelspec": {
   "display_name": "Python [conda env:base] *",
   "language": "python",
   "name": "conda-base-py"
  },
  "language_info": {
   "codemirror_mode": {
    "name": "ipython",
    "version": 3
   },
   "file_extension": ".py",
   "mimetype": "text/x-python",
   "name": "python",
   "nbconvert_exporter": "python",
   "pygments_lexer": "ipython3",
   "version": "3.12.7"
  }
 },
 "nbformat": 4,
 "nbformat_minor": 5
}
