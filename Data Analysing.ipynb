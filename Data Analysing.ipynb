{
 "cells": [
  {
   "cell_type": "code",
   "execution_count": 6,
   "id": "7108c5ea-3d92-4caa-a40e-5f9077bcd79d",
   "metadata": {},
   "outputs": [],
   "source": [
    "import json\n",
    "def load_file(file_name):\n",
    "    \n",
    "    with open(file_name,'r') as f:\n",
    "        data=json.load(f)\n",
    "    return data"
   ]
  },
  {
   "cell_type": "code",
   "execution_count": 7,
   "id": "0998e9c7-75af-41b6-8ee5-2216fdcf677d",
   "metadata": {},
   "outputs": [],
   "source": [
    "data=load_file(\"data.json\")"
   ]
  },
  {
   "cell_type": "code",
   "execution_count": 8,
   "id": "47b89680-6640-4658-b54d-96387fc59281",
   "metadata": {},
   "outputs": [
    {
     "name": "stdout",
     "output_type": "stream",
     "text": [
      "{'users': [{'id': 1, 'name': 'Amit', 'friends': [2, 3], 'liked_pages': [101]}, {'id': 2, 'name': 'Priya', 'friends': [1, 4], 'liked_pages': [102]}, {'id': 3, 'name': 'Rahul', 'friends': [1], 'liked_pages': [101, 103]}, {'id': 4, 'name': 'Sara', 'friends': [2], 'liked_pages': [104]}], 'pages': [{'id': 101, 'name': 'Python Developers'}, {'id': 102, 'name': 'Data Science Enthusiasts'}, {'id': 103, 'name': 'AI & ML Community'}, {'id': 104, 'name': 'Web Dev Hub'}]}\n"
     ]
    }
   ],
   "source": [
    "print(data)"
   ]
  },
  {
   "cell_type": "code",
   "execution_count": 9,
   "id": "ae101658-cb09-4972-8bfd-d5527ecd2339",
   "metadata": {},
   "outputs": [
    {
     "name": "stdout",
     "output_type": "stream",
     "text": [
      "<class 'dict'>\n"
     ]
    }
   ],
   "source": [
    "print(type(data))"
   ]
  },
  {
   "cell_type": "code",
   "execution_count": 10,
   "id": "79911eac-c49a-4959-a753-e895568c6422",
   "metadata": {},
   "outputs": [
    {
     "name": "stdout",
     "output_type": "stream",
     "text": [
      "Users And their Connectivity\n",
      "\n",
      "ID:1. Amit is friends with ['Priya', 'Rahul'] and liked pages are [101]\n",
      "ID:2. Priya is friends with ['Amit', 'Sara'] and liked pages are [102]\n",
      "ID:3. Rahul is friends with ['Amit'] and liked pages are [101, 103]\n",
      "ID:4. Sara is friends with ['Priya'] and liked pages are [104]\n",
      "\n",
      "Pages Information\n",
      "101 : Python Developers\n",
      "102 : Data Science Enthusiasts\n",
      "103 : AI & ML Community\n",
      "104 : Web Dev Hub\n"
     ]
    }
   ],
   "source": [
    "user_lookup={user['id']:user['name'] for user in data['users']}\n",
    "\n",
    "print(\"Users And their Connectivity\\n\")\n",
    "for user in data['users']:\n",
    "    friends_list=[user_lookup[friend_id] for friend_id in user['friends']]\n",
    "    print(f\"ID:{user['id']}. {user['name']} is friends with {friends_list} and liked pages are {user['liked_pages']}\")\n",
    "print(\"\\nPages Information\")\n",
    "for page in data['pages']:\n",
    "    print(f\"{page['id']} : {page['name']}\")"
   ]
  },
  {
   "cell_type": "code",
   "execution_count": null,
   "id": "4f1de45c-3174-4400-807c-3e93755304ee",
   "metadata": {},
   "outputs": [],
   "source": []
  }
 ],
 "metadata": {
  "kernelspec": {
   "display_name": "Python [conda env:base] *",
   "language": "python",
   "name": "conda-base-py"
  },
  "language_info": {
   "codemirror_mode": {
    "name": "ipython",
    "version": 3
   },
   "file_extension": ".py",
   "mimetype": "text/x-python",
   "name": "python",
   "nbconvert_exporter": "python",
   "pygments_lexer": "ipython3",
   "version": "3.12.7"
  }
 },
 "nbformat": 4,
 "nbformat_minor": 5
}
